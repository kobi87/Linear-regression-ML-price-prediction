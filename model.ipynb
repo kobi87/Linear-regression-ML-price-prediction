{
 "cells": [
  {
   "cell_type": "code",
   "execution_count": 2,
   "metadata": {},
   "outputs": [],
   "source": [
    "import pandas as pd\n",
    "import numpy as np\n",
    "from sklearn.metrics import * \n",
    "import matplotlib.pyplot as plt\n",
    "from sklearn.model_selection import train_test_split\n",
    "from sklearn.neighbors import KNeighborsRegressor\n",
    "import pickle\n",
    "\n",
    "# Clean and Aanalyze the paris_airbnb dataset.\n",
    "np.random.seed(1)\n",
    "paris_listings = pd.read_csv('paris_airbnb.csv')\n",
    "paris_listings['price']= paris_listings['price'].str.replace(',','')\n",
    "paris_listings['price']= paris_listings['price'].str.replace('$','')\n",
    "paris_listings['price']= paris_listings['price'].astype(float)\n",
    "paris_listings = paris_listings.loc[np.random.permutation(len(paris_listings))]\n",
    "\n",
    "# Remove unnecessary features in the proposed model\n",
    "paris_listings = paris_listings.drop(['room_type', 'city', 'state', 'longitude', 'latitude', 'zipcode', 'host_response_rate', 'host_acceptance_rate', 'host_listings_count'],axis=1)\n",
    "paris_listings = paris_listings.drop(['cleaning_fee','security_deposit'],axis=1)\n",
    "\n",
    "# Manage missing values by Deleting all lines were at least one value equal to zero.\n",
    "paris_listings = paris_listings.dropna(axis=0)\n",
    "\n",
    "# Normalize dataset\n",
    "normalized_listings = (paris_listings - paris_listings.mean())/ (paris_listings.std()) \n",
    "normalized_listings['price']= paris_listings['price'] # replace the price by the non normalize value\n",
    "\n",
    "# Split data between train and test\n",
    "colonne_train = ['accommodates', 'bedrooms', 'bathrooms', 'beds', 'minimum_nights', 'maximum_nights']\n",
    "X_train, X_test, y_train, y_test = train_test_split(normalized_listings[colonne_train],normalized_listings.price,test_size=0.2)\n",
    "\n",
    "# Create a model instance (object)\n",
    "from sklearn.linear_model import LinearRegression\n",
    "regressor = LinearRegression()\n",
    "\n",
    "#Fitting model with trainig data\n",
    "regressor.fit(X_train, y_train)\n",
    "\n",
    "# Saving model to disk\n",
    "pickle.dump(regressor, open('model.pkl','wb')) "
   ]
  },
  {
   "cell_type": "code",
   "execution_count": null,
   "metadata": {},
   "outputs": [],
   "source": []
  }
 ],
 "metadata": {
  "kernelspec": {
   "display_name": "Python 3",
   "language": "python",
   "name": "python3"
  },
  "language_info": {
   "codemirror_mode": {
    "name": "ipython",
    "version": 3
   },
   "file_extension": ".py",
   "mimetype": "text/x-python",
   "name": "python",
   "nbconvert_exporter": "python",
   "pygments_lexer": "ipython3",
   "version": "3.7.4"
  }
 },
 "nbformat": 4,
 "nbformat_minor": 2
}
